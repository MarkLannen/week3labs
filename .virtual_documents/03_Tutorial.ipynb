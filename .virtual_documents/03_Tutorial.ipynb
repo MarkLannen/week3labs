


a = 33
b = 9


a + b


a - b


a * b


a / b


a % b


a // b


a ** b





a / b





int(33) / int(9)





int(33 / 9)





a = a + 1





1 + 2 * 3





(1 + 2) * 3











my_age = 34





x = 3
y = 6


x == y


x != y


x > y


x < y


x >= y


x <= y





u = 5
m = 6


u > 2 and m < 2


not(u > 2 and m < 2) 


u < 7 or m > 7





not True


not False


not 5 == 5


not 4 > 5





active = True
inactive = False





active = True
inactive = False
active_string = "True"

active == active_string





x = 3
y = 6


x == y


x != y


x > y


x < y


x >= y


x <= y





type(x == y)





# Ski resort is represented by two possible values:
# 1 represents the ski resort is open
# 0 represents the ski resort is not open
ski_resort = 1

if ski_resort == 1:
    # go skiing
    print("We are going skiing.")
else:
    # do not go skiing
    print("We are not going skiing")





# Ski resort is represented by two possible values:
# 1 represents the ski resort is open
# 0 represents the ski resort is not open
ski_resort = 1

if ski_resort > 0:
    # go skiing
    print("We are going skiing.")
else:
    # do not go skiing
    print("We are not going skiing")





# Ski resort is represented by two possible values:
# 3 represents ski resort is open
# 2 represents ski resort opens soon
# 1 represents ski resort closes soon
# 0 represents ski resort is open
ski_resort = 2

if ski_resort > 2:
    # go skiing
    print("Let's go skiing!")
elif ski_resort == 2:
    print("Let's get ready to go skiing!")
elif ski_resort == 1:
    print("Let's do one more run!")
else:
    # do not go skiing
    print("We can't go skiing.")





print("Count 0.")
print("Count 1.")
print("Count 2.")
print("Count 3.")
print("Count 4.")
print("Count 5.")
print("Count 6.")
print("Count 7.")
print("Count 8.")
print("Count 9.")





i = 1
while i < 201:
    print(f"Count {i}.")
    i += 1





# paste the infinite loop code here if you dare





k = 0
while k < 4:
    print(f"===Outer loop: {k}===")
    l = 0
    while l < 3:
        print(f"Inner loop: {l}")
        l += 1
    k += 1





i = 0
j = 20
while i < j:
    print(f"i is {i}, j is {j}")
    i += 1
    j -= 1





i = 0
j = 20
while i < j:
    print(f"i is {i}, j is {j}")
    if i == 4 and j == 16:
        break
    i += 1
    j -= 1
print("All done!")





k = 0
while k < 4:
    print(f"===Outer loop: {k}===")
    l = 0
    while l < 4:
        print(f"Inner loop: {l}")
        l += 1
    k += 1





k = 0
while k < 4:
    print(f"===Outer loop: {k}===")
    l = 0
    while l < 4:
        if l > k:
            break
        print(f"Inner loop: {l}")
        l += 1
    k += 1





i = 0
while i < 5:
    print(f"Iteration {i}: ")
    if i < 3:
        print("Skip the end.")
        break
    print("Reached the end.")
    i += 1






