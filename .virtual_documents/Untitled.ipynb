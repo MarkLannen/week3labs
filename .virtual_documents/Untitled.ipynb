int(33) / int(9)



1 + 2 * 3


a = 33
b = 9

a % b


x = 3
y = 6
x <= y


not(x > 2 and y < 14)


not True


not false



