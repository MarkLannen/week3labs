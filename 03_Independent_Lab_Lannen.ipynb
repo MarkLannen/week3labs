{
 "cells": [
  {
   "cell_type": "code",
   "execution_count": null,
   "id": "6415a280-25b4-4d19-b846-a9be6519f03c",
   "metadata": {},
   "outputs": [],
   "source": [
    "print(\"Welcome, this ki"
   ]
  }
 ],
 "metadata": {
  "kernelspec": {
   "display_name": "Python 3 (ipykernel)",
   "language": "python",
   "name": "python3"
  },
  "language_info": {
   "codemirror_mode": {
    "name": "ipython",
    "version": 3
   },
   "file_extension": ".py",
   "mimetype": "text/x-python",
   "name": "python",
   "nbconvert_exporter": "python",
   "pygments_lexer": "ipython3",
   "version": "3.12.7"
  }
 },
 "nbformat": 4,
 "nbformat_minor": 5
}
