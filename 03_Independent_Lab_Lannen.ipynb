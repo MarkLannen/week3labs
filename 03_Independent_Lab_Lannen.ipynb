{
 "cells": [
  {
   "cell_type": "code",
   "execution_count": null,
   "id": "6415a280-25b4-4d19-b846-a9be6519f03c",
   "metadata": {},
   "outputs": [],
   "source": [
    "print(\"Welcome, this kiosk sells healthy snacks!\")\n",
    "print(\"Please place your order by selecting the product and subsequently providing the quantity desired.\")\n",
    "\n",
    "# Define snack and price variables\n",
    "\n",
    "water = \"Water\"\n",
    "nuts = \"Nuts\"\n",
    "apple = \"Apple\"\n",
    "chips = \"Chips\"\n",
    "yoghurt = \"Yogurt\"\n",
    "\n",
    "yoghurt_price = 1.00\n",
    "nuts_price = 4.50\n",
    "apple_price = 0.50\n",
    "chips_price = 3.95\n",
    "yoghurt_price = 5.95"
   ]
  }
 ],
 "metadata": {
  "kernelspec": {
   "display_name": "Python 3 (ipykernel)",
   "language": "python",
   "name": "python3"
  },
  "language_info": {
   "codemirror_mode": {
    "name": "ipython",
    "version": 3
   },
   "file_extension": ".py",
   "mimetype": "text/x-python",
   "name": "python",
   "nbconvert_exporter": "python",
   "pygments_lexer": "ipython3",
   "version": "3.12.7"
  }
 },
 "nbformat": 4,
 "nbformat_minor": 5
}
