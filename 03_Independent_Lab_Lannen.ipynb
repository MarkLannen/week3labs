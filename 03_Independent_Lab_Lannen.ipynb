{
 "cells": [
  {
   "cell_type": "code",
   "execution_count": 1,
   "id": "6415a280-25b4-4d19-b846-a9be6519f03c",
   "metadata": {},
   "outputs": [
    {
     "ename": "IndentationError",
     "evalue": "unexpected indent (2499935892.py, line 19)",
     "output_type": "error",
     "traceback": [
      "\u001b[0;36m  Cell \u001b[0;32mIn[1], line 19\u001b[0;36m\u001b[0m\n\u001b[0;31m    print(\"These are your snack options\")\u001b[0m\n\u001b[0m    ^\u001b[0m\n\u001b[0;31mIndentationError\u001b[0m\u001b[0;31m:\u001b[0m unexpected indent\n"
     ]
    }
   ],
   "source": [
    "print(\"Welcome, this kiosk sells healthy snacks!\")\n",
    "print(\"Please place your order by selecting the product and subsequently providing the quantity desired.\")\n",
    "\n",
    "# Define snack and price variables\n",
    "\n",
    "water = \"Water\"\n",
    "nuts = \"Nuts\"\n",
    "apple = \"Apple\"\n",
    "chips = \"Chips\"\n",
    "yoghurt = \"Yogurt\"\n",
    "\n",
    "water_price = 1.00\n",
    "nuts_price = 4.50\n",
    "apple_price = 0.50\n",
    "chips_price = 3.95\n",
    "yoghurt_price = 5.95\n",
    "\n",
    "# while True:\n",
    "    print(\"These are your snack options\")\n",
    "    print(f\"1 - {water}: ${water_price}\")\n",
    "    print(f\"2 - {nuts}: ${nuts_price}\")\n",
    "    print(f\"1 - {apple}: ${apple_price}\")\n",
    "    print(f\"1 - {chips}: ${chips_price}\")\n",
    "    print(f\"1 - {yoghurt}: ${yoghurt_price}\")\n",
    "    "
   ]
  }
 ],
 "metadata": {
  "kernelspec": {
   "display_name": "Python 3 (ipykernel)",
   "language": "python",
   "name": "python3"
  },
  "language_info": {
   "codemirror_mode": {
    "name": "ipython",
    "version": 3
   },
   "file_extension": ".py",
   "mimetype": "text/x-python",
   "name": "python",
   "nbconvert_exporter": "python",
   "pygments_lexer": "ipython3",
   "version": "3.12.7"
  }
 },
 "nbformat": 4,
 "nbformat_minor": 5
}
