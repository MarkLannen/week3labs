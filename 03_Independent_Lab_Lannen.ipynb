{
 "cells": [
  {
   "cell_type": "code",
   "execution_count": 1,
   "id": "6415a280-25b4-4d19-b846-a9be6519f03c",
   "metadata": {},
   "outputs": [
    {
     "name": "stdout",
     "output_type": "stream",
     "text": [
      "Welcome, this kiosk sells healthy snacks!\n",
      "Please place your order by selecting the product and subsequently providing the quantity desired.\n",
      "These are your snack options\n",
      "1 - Water: $1.0\n",
      "2 - Nuts: $4.5\n",
      "3 - Apple: $0.5\n",
      "4 - Chips: $3.95\n",
      "5 - Yogurt: $5.95\n"
     ]
    },
    {
     "name": "stdin",
     "output_type": "stream",
     "text": [
      "What would you like to purchase?  4\n",
      "How many chips would you like to purchase?  3\n"
     ]
    },
    {
     "name": "stdout",
     "output_type": "stream",
     "text": [
      "You want 3 of Chips.\n",
      "The current total for your order is $11.85\n",
      "\n"
     ]
    },
    {
     "name": "stdin",
     "output_type": "stream",
     "text": [
      "If you are finished ordering, please input 1; otherwise, if you would like to add to your order, please input 2.  2\n"
     ]
    },
    {
     "name": "stdout",
     "output_type": "stream",
     "text": [
      "These are your snack options\n",
      "1 - Water: $1.0\n",
      "2 - Nuts: $4.5\n",
      "3 - Apple: $0.5\n",
      "4 - Chips: $3.95\n",
      "5 - Yogurt: $5.95\n"
     ]
    },
    {
     "name": "stdin",
     "output_type": "stream",
     "text": [
      "What would you like to purchase?  4\n",
      "How many chips would you like to purchase?  15\n"
     ]
    },
    {
     "name": "stdout",
     "output_type": "stream",
     "text": [
      "You want 18 of Chips.\n",
      "The current total for your order is $71.10\n",
      "\n"
     ]
    },
    {
     "name": "stdin",
     "output_type": "stream",
     "text": [
      "If you are finished ordering, please input 1; otherwise, if you would like to add to your order, please input 2.  1\n"
     ]
    },
    {
     "name": "stdout",
     "output_type": "stream",
     "text": [
      "\n",
      "Here is a summary of your final order:\n",
      "| Product    | Quantity |\n",
      "| Water | 0 |\n",
      "| Nuts | 0 |\n",
      "| Apple | 0 |\n",
      "| Chips | 18 |\n",
      "| Yogurt | 0 |\n",
      "\n",
      "The total cost for your order is $71.10\n"
     ]
    }
   ],
   "source": [
    "print(\"Welcome, this kiosk sells healthy snacks!\")\n",
    "print(\"Please place your order by selecting the product and subsequently providing the quantity desired.\")\n",
    "\n",
    "water = \"Water\"\n",
    "nuts = \"Nuts\"\n",
    "apple = \"Apple\"\n",
    "chips = \"Chips\"\n",
    "yoghurt = \"Yogurt\"\n",
    "\n",
    "water_price = 1.00\n",
    "nuts_price = 4.50\n",
    "apple_price = 0.50\n",
    "chips_price = 3.95\n",
    "yoghurt_price = 5.95\n",
    "\n",
    "qty_water = 0\n",
    "qty_nuts = 0\n",
    "qty_apple = 0\n",
    "qty_chips = 0\n",
    "qty_yoghurt = 0\n",
    "total_cost = 0.0\n",
    "\n",
    "while True:\n",
    "    print(\"These are your snack options\")\n",
    "    print(f\"1 - {water}: ${water_price}\")\n",
    "    print(f\"2 - {nuts}: ${nuts_price}\")\n",
    "    print(f\"3 - {apple}: ${apple_price}\")\n",
    "    print(f\"4 - {chips}: ${chips_price}\")\n",
    "    print(f\"5 - {yoghurt}: ${yoghurt_price}\")\n",
    "\n",
    "    selection = input(\"What would you like to purchase? \")\n",
    "\n",
    "    if selection == \"1\":\n",
    "        qty = input(\"How many waters would you like to purchase? \")\n",
    "        qty_water += int(qty)\n",
    "        total_cost += int(qty) * water_price\n",
    "        print(f\"You want {qty_water} of {water}.\")\n",
    "    elif selection == \"2\":\n",
    "        qty = input(\"How many nuts would you like to purchase? \")\n",
    "        qty_nuts += int(qty)\n",
    "        total_cost += int(qty) * nuts_price\n",
    "        print(f\"You want {qty_nuts} of {nuts}.\")\n",
    "    elif selection == \"3\":\n",
    "        qty = input(\"How many apples would you like to purchase? \")\n",
    "        qty_apple += int(qty)\n",
    "        total_cost += int(qty) * apple_price\n",
    "        print(f\"You want {qty_apple} of {apple}.\")\n",
    "    elif selection == \"4\":\n",
    "        qty = input(\"How many chips would you like to purchase? \")\n",
    "        qty_chips += int(qty)\n",
    "        total_cost += int(qty) * chips_price\n",
    "        print(f\"You want {qty_chips} of {chips}.\")\n",
    "    elif selection == \"5\":\n",
    "        qty = input(\"How many yoghurts would you like to purchase? \")\n",
    "        qty_yoghurt += int(qty)\n",
    "        total_cost += int(qty) * yoghurt_price\n",
    "        print(f\"You want {qty_yoghurt} of {yoghurt}.\")\n",
    "    else:\n",
    "        print(\"That is not an option. Please try again.\")\n",
    "        continue\n",
    "    \n",
    "    print(f\"The current total for your order is ${total_cost:.2f}\\n\")\n",
    "\n",
    "    proceed = input(\"If you are finished ordering, please input 1; otherwise, if you would like to add to your order, please input 2. \")\n",
    "    \n",
    "    if proceed == \"1\":\n",
    "        print(\"\\nHere is a summary of your final order:\")\n",
    "        print(\"| Product    | Quantity |\")\n",
    "        print(f\"| {water} | {qty_water} |\")\n",
    "        print(f\"| {nuts} | {qty_nuts} |\")\n",
    "        print(f\"| {apple} | {qty_apple} |\")\n",
    "        print(f\"| {chips} | {qty_chips} |\")\n",
    "        print(f\"| {yoghurt} | {qty_yoghurt} |\")\n",
    "        print(f\"\\nThe total cost for your order is ${total_cost:.2f}\")\n",
    "        break\n",
    "    elif proceed != \"2\":\n",
    "        print(\"That is not an option. Please try again.\")"
   ]
  },
  {
   "cell_type": "code",
   "execution_count": null,
   "id": "fa431ecd-afe1-4ae1-a083-fbc596baf6a5",
   "metadata": {},
   "outputs": [],
   "source": []
  },
  {
   "cell_type": "code",
   "execution_count": null,
   "id": "6a34240c-5200-4a43-a17b-d8c8b623904c",
   "metadata": {},
   "outputs": [],
   "source": []
  }
 ],
 "metadata": {
  "kernelspec": {
   "display_name": "Python 3 (ipykernel)",
   "language": "python",
   "name": "python3"
  },
  "language_info": {
   "codemirror_mode": {
    "name": "ipython",
    "version": 3
   },
   "file_extension": ".py",
   "mimetype": "text/x-python",
   "name": "python",
   "nbconvert_exporter": "python",
   "pygments_lexer": "ipython3",
   "version": "3.12.7"
  }
 },
 "nbformat": 4,
 "nbformat_minor": 5
}
