{
 "cells": [
  {
   "cell_type": "markdown",
   "id": "428c15c6-0287-4745-9b89-96a339a22106",
   "metadata": {},
   "source": [
    "1. Graduate Introduction to Python (Sect: V60, 34475, Spring Semester 2025)\n",
    "2. Week 2 Independent Lab\n",
    "3. Mark Lannen\n",
    "4. March 10, 2025\n",
    "Welcome to my Fahrenheit to Celsius converter"
   ]
  },
  {
   "cell_type": "code",
   "execution_count": 1,
   "id": "f2ee9cb0-0df6-4824-8644-fad4a735960c",
   "metadata": {},
   "outputs": [],
   "source": [
    "celsius = 0.0\n",
    "fahrenheit = 0.0\n",
    "kelvin = 0.0"
   ]
  },
  {
   "cell_type": "code",
   "execution_count": 2,
   "id": "4e60abf2-c45b-446f-a0f9-06736852d3a8",
   "metadata": {},
   "outputs": [
    {
     "name": "stdin",
     "output_type": "stream",
     "text": [
      "Please provide a value, in Celsius, to convert to fahrenheit and kelvin 37\n"
     ]
    }
   ],
   "source": [
    "celsius = float(input(\"Please provide a value, in Celsius, to convert to fahrenheit and kelvin\"))"
   ]
  },
  {
   "cell_type": "code",
   "execution_count": 3,
   "id": "538b0616-90e1-44b8-99ce-6dfecc80928c",
   "metadata": {},
   "outputs": [],
   "source": [
    "fahrenheit = (9 / 5) * celsius + 32"
   ]
  },
  {
   "cell_type": "code",
   "execution_count": 4,
   "id": "f044f858-9247-450a-ab1a-9e94dcf02300",
   "metadata": {},
   "outputs": [],
   "source": [
    "kelvin = celsius + 273.15"
   ]
  },
  {
   "cell_type": "code",
   "execution_count": 5,
   "id": "ef407505-5e34-4c7c-aa7e-17f9564f1d00",
   "metadata": {},
   "outputs": [
    {
     "name": "stdout",
     "output_type": "stream",
     "text": [
      "37 degrees Celsius is 98.6 degrees Fahrenheit, which is 310.1 degrees Kelvin\n"
     ]
    }
   ],
   "source": [
    "print(\"%.f degrees Celsius is %.1f degrees Fahrenheit, which is %.1f degrees Kelvin\" % (celsius, fahrenheit, kelvin))"
   ]
  },
  {
   "cell_type": "code",
   "execution_count": 6,
   "id": "460c2b67-fe4b-438e-a59c-ea79f2485374",
   "metadata": {},
   "outputs": [
    {
     "name": "stdout",
     "output_type": "stream",
     "text": [
      "The integer value of farenheit is 98\n"
     ]
    }
   ],
   "source": [
    "int_fahrenheit = int(fahrenheit)\n",
    "print(\"The integer value of farenheit is\", int_fahrenheit)"
   ]
  },
  {
   "cell_type": "code",
   "execution_count": 7,
   "id": "b02f176c-9ca9-45c3-9ae4-5fc35732b33e",
   "metadata": {},
   "outputs": [
    {
     "name": "stdin",
     "output_type": "stream",
     "text": [
      "Please provide another value, in Celsius, to convert to fahrenheit and kelvin 37\n"
     ]
    }
   ],
   "source": [
    "celsius_2 = float(input(\"Please provide another value, in Celsius, to convert to fahrenheit and kelvin\"))"
   ]
  },
  {
   "cell_type": "code",
   "execution_count": 8,
   "id": "3a213897-fe7e-4bf3-9d81-b29daf7a411f",
   "metadata": {},
   "outputs": [],
   "source": [
    "fahrenheit_2 = (9 / 5) * celsius_2 + 32\n",
    "kelvin_2 = celsius_2 + 273.15"
   ]
  },
  {
   "cell_type": "code",
   "execution_count": 9,
   "id": "36365020-e5fd-4877-826f-472b090cc97c",
   "metadata": {},
   "outputs": [
    {
     "name": "stdout",
     "output_type": "stream",
     "text": [
      "Second set of values: 37 degrees Celsius is 98.6 degrees Fahrenheit, which is 310.1 degrees Kelvin\n"
     ]
    }
   ],
   "source": [
    "print(\"Second set of values: %.f degrees Celsius is %.1f degrees Fahrenheit, which is %.1f degrees Kelvin\" % (celsius_2, fahrenheit_2, kelvin_2))"
   ]
  },
  {
   "cell_type": "code",
   "execution_count": 10,
   "id": "f73e7a01-6ec1-4911-bf98-c586399a37f3",
   "metadata": {},
   "outputs": [
    {
     "name": "stdout",
     "output_type": "stream",
     "text": [
      "The original Celsius value of 37.0 does equal the new value of 37.0.\n",
      "The original Fahrenheit value of 98.60000000000001 is equal to the new value of 98.60000000000001.\n",
      "The original Kelvin value of 310.15 is equal to the new value of 310.15.\n"
     ]
    }
   ],
   "source": [
    "if celsius != celsius_2:\n",
    "    print(f\"The original Celsius value of {celsius} does not equal the new value of {celsius_2}.\")\n",
    "else:\n",
    "    print(f\"The original Celsius value of {celsius} does equal the new value of {celsius_2}.\")\n",
    "\n",
    "if fahrenheit > fahrenheit_2:\n",
    "    print(f\"The original Fahrenheit value of {fahrenheit} is greater than the new value of {fahrenheit_2}.\")\n",
    "elif fahrenheit < fahrenheit_2:\n",
    "    print(f\"The original Fahrenheit value of {fahrenheit} is lesser than the new value of {fahrenheit_2}.\")\n",
    "else:\n",
    "    print(f\"The original Fahrenheit value of {fahrenheit} is equal to the new value of {fahrenheit_2}.\")\n",
    "\n",
    "if kelvin == kelvin_2:\n",
    "    print(f\"The original Kelvin value of {kelvin} is equal to the new value of {kelvin_2}.\")\n",
    "else:\n",
    "    print(f\"The original Kelvin value of {kelvin} does not equal the new value of {kelvin_2}.\")"
   ]
  }
 ],
 "metadata": {
  "kernelspec": {
   "display_name": "Python 3 (ipykernel)",
   "language": "python",
   "name": "python3"
  },
  "language_info": {
   "codemirror_mode": {
    "name": "ipython",
    "version": 3
   },
   "file_extension": ".py",
   "mimetype": "text/x-python",
   "name": "python",
   "nbconvert_exporter": "python",
   "pygments_lexer": "ipython3",
   "version": "3.12.7"
  }
 },
 "nbformat": 4,
 "nbformat_minor": 5
}
